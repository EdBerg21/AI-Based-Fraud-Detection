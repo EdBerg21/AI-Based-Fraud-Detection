{
  "nbformat": 4,
  "nbformat_minor": 0,
  "metadata": {
    "colab": {
      "provenance": [],
      "gpuType": "T4",
      "include_colab_link": true
    },
    "kernelspec": {
      "name": "python3",
      "display_name": "Python 3"
    },
    "language_info": {
      "name": "python"
    },
    "accelerator": "GPU"
  },
  "cells": [
    {
      "cell_type": "markdown",
      "metadata": {
        "id": "view-in-github",
        "colab_type": "text"
      },
      "source": [
        "<a href=\"https://colab.research.google.com/github/EdBerg21/AI-Based-Fraud-Detection/blob/main/whisper_large_v3.ipynb\" target=\"_parent\"><img src=\"https://colab.research.google.com/assets/colab-badge.svg\" alt=\"Open In Colab\"/></a>"
      ]
    },
    {
      "cell_type": "code",
      "execution_count": null,
      "metadata": {
        "id": "D5UD_f-zqd38"
      },
      "outputs": [],
      "source": [
        "!pip install git+https://github.com/openai/whisper.git"
      ]
    },
    {
      "cell_type": "code",
      "source": [
        "import whisper\n",
        "import os\n",
        "from google.colab import files\n",
        "\n",
        "# 載入模型\n",
        "model = whisper.load_model(\"large-v2\") # tiny, base, small, medium, large, large-v2, large-v3\n",
        "\n",
        "# 設定檔案路徑\n",
        "audio_path = \"/content/demo.mp3\" # 替換成你的檔案名稱\n",
        "\n",
        "# 處理音頻檔案，指定繁體中文\n",
        "result = model.transcribe(audio_path, prompt=\"請轉錄以下繁體中文的內容：\")\n",
        "\n",
        "# 印出結果\n",
        "print(result[\"text\"])\n",
        "\n",
        "# 獲取不帶副檔名的檔案名稱\n",
        "file_name = os.path.splitext(os.path.basename(audio_path))[0]\n",
        "\n",
        "# 將結果保存為txt檔案\n",
        "with open(f\"{file_name}.txt\", \"w\") as file:\n",
        "  file.write(result[\"text\"])\n",
        "  files.download(f\"{file_name}.txt\")"
      ],
      "metadata": {
        "id": "u9nsB7M_ukVC"
      },
      "execution_count": null,
      "outputs": []
    }
  ]
}