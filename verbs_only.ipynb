{
  "nbformat": 4,
  "nbformat_minor": 0,
  "metadata": {
    "colab": {
      "provenance": [],
      "authorship_tag": "ABX9TyOIgaMP6UMh3QqurnJI0U2W",
      "include_colab_link": true
    },
    "kernelspec": {
      "name": "python3",
      "display_name": "Python 3"
    },
    "language_info": {
      "name": "python"
    }
  },
  "cells": [
    {
      "cell_type": "markdown",
      "metadata": {
        "id": "view-in-github",
        "colab_type": "text"
      },
      "source": [
        "<a href=\"https://colab.research.google.com/github/EdBerg21/AI-Based-Fraud-Detection/blob/main/verbs_only.ipynb\" target=\"_parent\"><img src=\"https://colab.research.google.com/assets/colab-badge.svg\" alt=\"Open In Colab\"/></a>"
      ]
    },
    {
      "cell_type": "code",
      "source": [
        "import re\n",
        "from nltk import word_tokenize, pos_tag\n",
        "import nltk\n",
        "\n",
        "# Download required NLTK data\n",
        "nltk.download('punkt')\n",
        "# Download the 'punkt_tab' data package\n",
        "nltk.download('punkt_tab')\n",
        "# Download the 'averaged_perceptron_tagger' for English specifically\n",
        "nltk.download('averaged_perceptron_tagger')\n",
        "\n",
        "# Function to extract verbs from a text\n",
        "def extract_verbs(text):\n",
        "    tokens = word_tokenize(text)  # Tokenize the text into words\n",
        "    tagged_words = pos_tag(tokens)  # Part-of-speech tagging\n",
        "    verbs = [word for word, tag in tagged_words if tag.startswith('VB')]  # Filter verbs (tags starting with 'VB')\n",
        "    return verbs\n",
        "\n",
        "# Main function\n",
        "def main():\n",
        "    # Load the file content\n",
        "    input_file = '/content/baha.txt'  # Replace with your input file\n",
        "    with open(input_file, 'r', encoding='utf-8') as file:\n",
        "        content = file.read()\n",
        "\n",
        "    # Extract verbs\n",
        "    verbs = extract_verbs(content)\n",
        "\n",
        "    # Remove duplicates and sort\n",
        "    unique_verbs = sorted(set(verbs))\n",
        "\n",
        "    # Save the results to a file\n",
        "    output_file = 'verbs_only.txt'\n",
        "    with open(output_file, 'w', encoding='utf-8') as file:\n",
        "        file.write('\\n'.join(unique_verbs))\n",
        "\n",
        "    print(f\"Extracted verbs have been saved to '{output_file}'.\")\n",
        "\n",
        "# Run the program\n",
        "if __name__ == '__main__':\n",
        "    main()"
      ],
      "metadata": {
        "colab": {
          "base_uri": "https://localhost:8080/"
        },
        "id": "CCKKUujCg66m",
        "outputId": "8b47f34d-cb68-4b5f-fd84-9420232ed51a"
      },
      "execution_count": 2,
      "outputs": [
        {
          "output_type": "stream",
          "name": "stderr",
          "text": [
            "[nltk_data] Downloading package punkt to /root/nltk_data...\n",
            "[nltk_data]   Package punkt is already up-to-date!\n",
            "[nltk_data] Downloading package punkt_tab to /root/nltk_data...\n",
            "[nltk_data]   Unzipping tokenizers/punkt_tab.zip.\n",
            "[nltk_data] Downloading package averaged_perceptron_tagger to\n",
            "[nltk_data]     /root/nltk_data...\n",
            "[nltk_data]   Unzipping taggers/averaged_perceptron_tagger.zip.\n"
          ]
        },
        {
          "output_type": "stream",
          "name": "stdout",
          "text": [
            "Extracted verbs have been saved to 'verbs_only.txt'.\n"
          ]
        }
      ]
    }
  ]
}